{
  "nbformat": 4,
  "nbformat_minor": 0,
  "metadata": {
    "colab": {
      "provenance": [],
      "authorship_tag": "ABX9TyNRvrTQB64vsC2n+dwR0fbq",
      "include_colab_link": true
    },
    "kernelspec": {
      "name": "python3",
      "display_name": "Python 3"
    },
    "language_info": {
      "name": "python"
    }
  },
  "cells": [
    {
      "cell_type": "markdown",
      "metadata": {
        "id": "view-in-github",
        "colab_type": "text"
      },
      "source": [
        "<a href=\"https://colab.research.google.com/github/seichies/ESET-KeyGen/blob/main/eset-keygen-colab.ipynb\" target=\"_parent\"><img src=\"https://colab.research.google.com/assets/colab-badge.svg\" alt=\"Open In Colab\"/></a>"
      ]
    },
    {
      "cell_type": "markdown",
      "source": [
        "Генератор триал ключей для ESET"
      ],
      "metadata": {
        "id": "tVatPMDZXHhV"
      }
    },
    {
      "cell_type": "code",
      "execution_count": null,
      "metadata": {
        "id": "scwP-m85XGAb"
      },
      "outputs": [],
      "source": [
        "!git clone https://github.com/seichies/ESET-KeyGen.git"
      ]
    },
    {
      "cell_type": "markdown",
      "source": [
        "установка требований"
      ],
      "metadata": {
        "id": "k8yFWf1KXy0m"
      }
    },
    {
      "cell_type": "code",
      "source": [
        "!pip3 install -r ESET-KeyGen/requirements.txt"
      ],
      "metadata": {
        "id": "_sEhQR_DX0Ii",
        "collapsed": true
      },
      "execution_count": null,
      "outputs": []
    },
    {
      "cell_type": "markdown",
      "source": [
        "старт генератора"
      ],
      "metadata": {
        "id": "ApkeyvrAZcqV"
      }
    },
    {
      "cell_type": "code",
      "source": [
        "!python3 ESET-KeyGen/main.py"
      ],
      "metadata": {
        "id": "efHmyEMGZeD3"
      },
      "execution_count": null,
      "outputs": []
    }
  ]
}